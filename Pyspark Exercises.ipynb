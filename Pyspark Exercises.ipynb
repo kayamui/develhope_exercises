{
 "cells": [
  {
   "cell_type": "code",
   "execution_count": 1,
   "id": "9d867484",
   "metadata": {
    "ExecuteTime": {
     "end_time": "2023-03-05T21:32:00.995664Z",
     "start_time": "2023-03-05T21:32:00.912555Z"
    }
   },
   "outputs": [],
   "source": [
    "import pyspark\n",
    "from pyspark.sql import SparkSession\n",
    "\n",
    "import pyspark.sql.functions as func\n",
    "from pyspark.sql.functions import sum"
   ]
  },
  {
   "cell_type": "code",
   "execution_count": 2,
   "id": "18cf8dbd",
   "metadata": {
    "ExecuteTime": {
     "end_time": "2023-03-05T21:32:10.517541Z",
     "start_time": "2023-03-05T21:32:01.576033Z"
    }
   },
   "outputs": [],
   "source": [
    "spark = SparkSession.builder.master(\"local[*]\").appName(\"kayamuiSWorking\").getOrCreate()"
   ]
  },
  {
   "cell_type": "code",
   "execution_count": 3,
   "id": "9e64796c",
   "metadata": {
    "ExecuteTime": {
     "end_time": "2023-03-05T21:32:11.718918Z",
     "start_time": "2023-03-05T21:32:11.705919Z"
    }
   },
   "outputs": [
    {
     "data": {
      "text/html": [
       "\n",
       "            <div>\n",
       "                <p><b>SparkSession - in-memory</b></p>\n",
       "                \n",
       "        <div>\n",
       "            <p><b>SparkContext</b></p>\n",
       "\n",
       "            <p><a href=\"http://Kepler-452b:4040\">Spark UI</a></p>\n",
       "\n",
       "            <dl>\n",
       "              <dt>Version</dt>\n",
       "                <dd><code>v3.3.2</code></dd>\n",
       "              <dt>Master</dt>\n",
       "                <dd><code>local[*]</code></dd>\n",
       "              <dt>AppName</dt>\n",
       "                <dd><code>kayamuiSWorking</code></dd>\n",
       "            </dl>\n",
       "        </div>\n",
       "        \n",
       "            </div>\n",
       "        "
      ],
      "text/plain": [
       "<pyspark.sql.session.SparkSession at 0x16fd684fa60>"
      ]
     },
     "execution_count": 3,
     "metadata": {},
     "output_type": "execute_result"
    }
   ],
   "source": [
    "spark"
   ]
  },
  {
   "cell_type": "code",
   "execution_count": 4,
   "id": "1cb29770",
   "metadata": {
    "ExecuteTime": {
     "end_time": "2023-03-05T21:32:19.947916Z",
     "start_time": "2023-03-05T21:32:16.193339Z"
    }
   },
   "outputs": [],
   "source": [
    "# read our data - lives in a csv file\n",
    "\n",
    "df = spark.read.format(\"csv\").option(\"header\",\"true\").load(\"C:/Users/mkaya/OneDrive/Masaüstü/exercises_develhope/Sample - EU Superstore.csv\")"
   ]
  },
  {
   "cell_type": "code",
   "execution_count": 5,
   "id": "b1dd4c2b",
   "metadata": {
    "ExecuteTime": {
     "end_time": "2023-03-04T23:37:13.613531Z",
     "start_time": "2023-03-04T23:37:13.393924Z"
    },
    "scrolled": true
   },
   "outputs": [
    {
     "name": "stdout",
     "output_type": "stream",
     "text": [
      "+------+---------------+----------+----------+--------------+-----------+--------------+---------+-----+-------+--------------+------+---------------+---------------+------------+--------------------+------+--------+--------+------+\n",
      "|Row ID|       Order ID|Order Date| Ship Date|     Ship Mode|Customer ID| Customer Name|  Segment| City|  State|       Country|Region|     Product ID|       Category|Sub-Category|        Product Name| Sales|Quantity|Discount|Profit|\n",
      "+------+---------------+----------+----------+--------------+-----------+--------------+---------+-----+-------+--------------+------+---------------+---------------+------------+--------------------+------+--------+--------+------+\n",
      "|     1|ES-2017-1311038|07/02/2017|11/02/2017|Standard Class|   AS-10045|Aaron Smayling|Corporate|Leeds|England|United Kingdom| North|OFF-ST-10000988|Office Supplies|     Storage|Fellowes Folders,...|  79.2|       3|       0|  39.6|\n",
      "|     2|ES-2017-1311038|07/02/2017|11/02/2017|Standard Class|   AS-10045|Aaron Smayling|Corporate|Leeds|England|United Kingdom| North|TEC-AC-10004144|     Technology| Accessories|SanDisk Numeric K...|388.92|       7|       0|     0|\n",
      "|     3|ES-2017-1311038|07/02/2017|11/02/2017|Standard Class|   AS-10045|Aaron Smayling|Corporate|Leeds|England|United Kingdom| North|OFF-LA-10001915|Office Supplies|      Labels|Avery Legal Exhib...| 35.19|       3|       0| 16.11|\n",
      "|     4|ES-2017-1311038|07/02/2017|11/02/2017|Standard Class|   AS-10045|Aaron Smayling|Corporate|Leeds|England|United Kingdom| North|OFF-ST-10004550|Office Supplies|     Storage|Fellowes Folders,...| 50.94|       2|       0|  13.2|\n",
      "|     5|ES-2017-1311038|07/02/2017|11/02/2017|Standard Class|   AS-10045|Aaron Smayling|Corporate|Leeds|England|United Kingdom| North|TEC-AC-10004068|     Technology| Accessories|Memorex Memory Ca...|307.44|       3|       0| 73.71|\n",
      "+------+---------------+----------+----------+--------------+-----------+--------------+---------+-----+-------+--------------+------+---------------+---------------+------------+--------------------+------+--------+--------+------+\n",
      "only showing top 5 rows\n",
      "\n"
     ]
    }
   ],
   "source": [
    "df.show(5)"
   ]
  },
  {
   "cell_type": "code",
   "execution_count": 7,
   "id": "e862aa39",
   "metadata": {
    "ExecuteTime": {
     "end_time": "2023-03-04T23:37:26.181396Z",
     "start_time": "2023-03-04T23:37:26.170396Z"
    }
   },
   "outputs": [
    {
     "data": {
      "text/plain": [
       "['Row ID',\n",
       " 'Order ID',\n",
       " 'Order Date',\n",
       " 'Ship Date',\n",
       " 'Ship Mode',\n",
       " 'Customer ID',\n",
       " 'Customer Name',\n",
       " 'Segment',\n",
       " 'City',\n",
       " 'State',\n",
       " 'Country',\n",
       " 'Region',\n",
       " 'Product ID',\n",
       " 'Category',\n",
       " 'Sub-Category',\n",
       " 'Product Name',\n",
       " 'Sales',\n",
       " 'Quantity',\n",
       " 'Discount',\n",
       " 'Profit']"
      ]
     },
     "execution_count": 7,
     "metadata": {},
     "output_type": "execute_result"
    }
   ],
   "source": [
    "df.columns"
   ]
  },
  {
   "cell_type": "code",
   "execution_count": 8,
   "id": "137ba65d",
   "metadata": {
    "ExecuteTime": {
     "end_time": "2023-03-04T23:37:44.269863Z",
     "start_time": "2023-03-04T23:37:44.253435Z"
    }
   },
   "outputs": [
    {
     "name": "stdout",
     "output_type": "stream",
     "text": [
      "root\n",
      " |-- Row ID: string (nullable = true)\n",
      " |-- Order ID: string (nullable = true)\n",
      " |-- Order Date: string (nullable = true)\n",
      " |-- Ship Date: string (nullable = true)\n",
      " |-- Ship Mode: string (nullable = true)\n",
      " |-- Customer ID: string (nullable = true)\n",
      " |-- Customer Name: string (nullable = true)\n",
      " |-- Segment: string (nullable = true)\n",
      " |-- City: string (nullable = true)\n",
      " |-- State: string (nullable = true)\n",
      " |-- Country: string (nullable = true)\n",
      " |-- Region: string (nullable = true)\n",
      " |-- Product ID: string (nullable = true)\n",
      " |-- Category: string (nullable = true)\n",
      " |-- Sub-Category: string (nullable = true)\n",
      " |-- Product Name: string (nullable = true)\n",
      " |-- Sales: string (nullable = true)\n",
      " |-- Quantity: string (nullable = true)\n",
      " |-- Discount: string (nullable = true)\n",
      " |-- Profit: string (nullable = true)\n",
      "\n"
     ]
    }
   ],
   "source": [
    "df.printSchema()"
   ]
  },
  {
   "cell_type": "code",
   "execution_count": 9,
   "id": "6c800030",
   "metadata": {
    "ExecuteTime": {
     "end_time": "2023-03-04T23:38:23.280574Z",
     "start_time": "2023-03-04T23:38:22.705686Z"
    }
   },
   "outputs": [
    {
     "data": {
      "text/plain": [
       "2827"
      ]
     },
     "execution_count": 9,
     "metadata": {},
     "output_type": "execute_result"
    }
   ],
   "source": [
    "# how many rows of the EU Superstore dataset have the country being France\n",
    "df.select(\"Country\").filter(df[\"Country\"].isin(\"France\")).count()"
   ]
  },
  {
   "cell_type": "code",
   "execution_count": 11,
   "id": "648e5f8a",
   "metadata": {
    "ExecuteTime": {
     "end_time": "2023-03-04T23:40:07.472069Z",
     "start_time": "2023-03-04T23:40:07.254993Z"
    }
   },
   "outputs": [
    {
     "data": {
      "text/plain": [
       "2329"
      ]
     },
     "execution_count": 11,
     "metadata": {},
     "output_type": "execute_result"
    }
   ],
   "source": [
    "# of those, how many are profitable?\n",
    "\n",
    "df.filter((df[\"Country\"].isin(\"France\")) & (df[\"Profit\"] > 0.0)).count()"
   ]
  },
  {
   "cell_type": "code",
   "execution_count": 19,
   "id": "ca611b93",
   "metadata": {
    "ExecuteTime": {
     "end_time": "2023-03-04T23:45:52.436388Z",
     "start_time": "2023-03-04T23:45:52.251154Z"
    }
   },
   "outputs": [
    {
     "data": {
      "text/plain": [
       "14"
      ]
     },
     "execution_count": 19,
     "metadata": {},
     "output_type": "execute_result"
    }
   ],
   "source": [
    "# how any different discount brackets exist? what are they?\n",
    "df.select(\"Discount\").distinct().count()"
   ]
  },
  {
   "cell_type": "code",
   "execution_count": 20,
   "id": "5588ae1b",
   "metadata": {
    "ExecuteTime": {
     "end_time": "2023-03-04T23:45:58.494599Z",
     "start_time": "2023-03-04T23:45:58.338378Z"
    }
   },
   "outputs": [
    {
     "name": "stdout",
     "output_type": "stream",
     "text": [
      "+--------+\n",
      "|Discount|\n",
      "+--------+\n",
      "|     0.3|\n",
      "|     0.7|\n",
      "|       0|\n",
      "|     0.2|\n",
      "|    0.15|\n",
      "|    0.35|\n",
      "|     0.8|\n",
      "|    0.45|\n",
      "|     0.5|\n",
      "|    0.65|\n",
      "|     0.6|\n",
      "|     0.1|\n",
      "|    0.85|\n",
      "|     0.4|\n",
      "+--------+\n",
      "\n"
     ]
    }
   ],
   "source": [
    "df.select(\"Discount\").distinct().show()"
   ]
  },
  {
   "cell_type": "code",
   "execution_count": 47,
   "id": "91282f6e",
   "metadata": {
    "ExecuteTime": {
     "end_time": "2023-03-05T00:09:40.749264Z",
     "start_time": "2023-03-05T00:09:40.558820Z"
    }
   },
   "outputs": [
    {
     "name": "stdout",
     "output_type": "stream",
     "text": [
      "+--------+-----------+\n",
      "|Discount|totalProfit|\n",
      "+--------+-----------+\n",
      "|       0|  383806.53|\n",
      "|     0.1|  126884.03|\n",
      "|    0.15|   24677.56|\n",
      "|     0.2|    2189.55|\n",
      "|     0.8|    -460.28|\n",
      "|     0.3|    -758.42|\n",
      "|    0.45|   -1103.19|\n",
      "|    0.85|   -3068.66|\n",
      "|     0.7|   -5496.77|\n",
      "|    0.65|   -6221.97|\n",
      "|    0.35|   -9122.65|\n",
      "|     0.6|  -20517.46|\n",
      "|     0.4|  -21346.43|\n",
      "|     0.5|  -96632.12|\n",
      "+--------+-----------+\n",
      "\n"
     ]
    }
   ],
   "source": [
    "# let's see the totl profit by discount bracket, make sure they are ordered by \n",
    "profit_by_discount = df.groupby(\"Discount\").agg({\"Profit\":\"sum\"})\n",
    "\n",
    "profit_by_discount = profit_by_discount.withColumn(\"sum(Profit)\", func.round(profit_by_discount[\"sum(Profit)\"], 2)).\\\n",
    "orderBy(\"sum(Profit)\", ascending=False).withColumnRenamed(\"sum(Profit)\", \"totalProfit\")\n",
    "\n",
    "profit_by_discount.show()"
   ]
  },
  {
   "cell_type": "code",
   "execution_count": 56,
   "id": "d1d76050",
   "metadata": {
    "ExecuteTime": {
     "end_time": "2023-03-05T00:12:57.505825Z",
     "start_time": "2023-03-05T00:12:57.288011Z"
    }
   },
   "outputs": [
    {
     "data": {
      "text/plain": [
       "'0.2'"
      ]
     },
     "execution_count": 56,
     "metadata": {},
     "output_type": "execute_result"
    }
   ],
   "source": [
    "# what is the value after which we should stop offering discount?\n",
    "\n",
    "profit_by_discount.filter(profit_by_discount[\"totalProfit\"] > 0).orderBy(\"totalProfit\", ascending=True).select(\"Discount\").collect()[0][0]"
   ]
  },
  {
   "cell_type": "code",
   "execution_count": 197,
   "id": "aae94ee1",
   "metadata": {
    "ExecuteTime": {
     "end_time": "2023-03-05T21:24:19.963070Z",
     "start_time": "2023-03-05T21:24:19.649240Z"
    }
   },
   "outputs": [
    {
     "data": {
      "text/plain": [
       "['Susan Pistek',\n",
       " 'Patrick Jones',\n",
       " \"Patrick O'Donnell\",\n",
       " 'Ellis Ballard',\n",
       " 'Mike Gockenbach']"
      ]
     },
     "execution_count": 197,
     "metadata": {},
     "output_type": "execute_result"
    }
   ],
   "source": [
    "# who are the top 5 most profitable customers\n",
    "\n",
    "def get_top_names():\n",
    "    top_5 = df.groupBy(\"Customer ID\", \"Customer Name\").agg({\"Profit\":\"sum\"})\n",
    "\n",
    "    top_5 = top_5.withColumn(\"Profit\", func.round(top_5[\"sum(Profit)\"], 2)).\\\n",
    "    drop(\"sum(Profit)\").\\\n",
    "    orderBy(\"Profit\", ascending=False).\\\n",
    "    drop(\"Profit\").limit(5)\n",
    "\n",
    "    names = []\n",
    "    for i in top_5.collect():\n",
    "        names.append(i[1])\n",
    "    return names\n",
    "get_top_names()"
   ]
  },
  {
   "cell_type": "code",
   "execution_count": 198,
   "id": "277c465a",
   "metadata": {
    "ExecuteTime": {
     "end_time": "2023-03-05T21:24:28.059029Z",
     "start_time": "2023-03-05T21:24:27.674278Z"
    }
   },
   "outputs": [
    {
     "data": {
      "text/plain": [
       "76"
      ]
     },
     "execution_count": 198,
     "metadata": {},
     "output_type": "execute_result"
    }
   ],
   "source": [
    "# get all the rows belonging to those 5 customer names: hint, you may need the collect method - how many rows are they?\n",
    "\n",
    "df.filter(df[\"Customer Name\"].isin(get_top_names())).count()"
   ]
  },
  {
   "cell_type": "code",
   "execution_count": 23,
   "id": "8d0fc034",
   "metadata": {
    "ExecuteTime": {
     "end_time": "2023-03-05T18:59:10.992596Z",
     "start_time": "2023-03-05T18:59:10.978505Z"
    }
   },
   "outputs": [],
   "source": [
    "# create a new column which is the value of the sale were there not discount applied. Hint: orginal = sales/(1-d)\n",
    "df = df.withColumn(\"original\", func.round(df[\"Sales\"] / (1-df[\"Discount\"]), 2))"
   ]
  },
  {
   "cell_type": "code",
   "execution_count": 28,
   "id": "6c764bd2",
   "metadata": {
    "ExecuteTime": {
     "end_time": "2023-03-05T19:06:31.031377Z",
     "start_time": "2023-03-05T19:06:30.991575Z"
    }
   },
   "outputs": [],
   "source": [
    "df.createOrReplaceTempView(\"df\")"
   ]
  },
  {
   "cell_type": "code",
   "execution_count": 40,
   "id": "5f9d09ac",
   "metadata": {
    "ExecuteTime": {
     "end_time": "2023-03-05T19:10:09.533556Z",
     "start_time": "2023-03-05T19:10:09.418972Z"
    }
   },
   "outputs": [
    {
     "name": "stdout",
     "output_type": "stream",
     "text": [
      "+---------+--------+--------+\n",
      "|    Sales|Original|Discount|\n",
      "+---------+--------+--------+\n",
      "|  3399.66| 6799.32|     0.5|\n",
      "| 5729.346| 6365.94|     0.1|\n",
      "|  5726.16|  6362.4|     0.1|\n",
      "| 5276.988| 5863.32|     0.1|\n",
      "|  2875.77| 5751.54|     0.5|\n",
      "| 4876.875|  5737.5|    0.15|\n",
      "| 2830.425| 5660.85|     0.5|\n",
      "| 4748.436| 5276.04|     0.1|\n",
      "| 4448.832| 5233.92|    0.15|\n",
      "| 1824.144| 5211.84|    0.65|\n",
      "| 2570.865| 5141.73|     0.5|\n",
      "| 4627.368| 5141.52|     0.1|\n",
      "| 4618.215| 5131.35|     0.1|\n",
      "|   4544.1|  5049.0|     0.1|\n",
      "| 1950.372| 4875.93|     0.6|\n",
      "| 3062.631| 4711.74|    0.35|\n",
      "| 1363.905| 4546.35|     0.7|\n",
      "|   2683.8|  4473.0|     0.4|\n",
      "| 2671.452| 4452.42|     0.4|\n",
      "|2794.2525| 4298.85|    0.35|\n",
      "+---------+--------+--------+\n",
      "only showing top 20 rows\n",
      "\n"
     ]
    }
   ],
   "source": [
    "spark.sql(\"SELECT Sales, Original, Discount FROM df WHERE Discount > 0.0 ORDER BY Original desc\").show()"
   ]
  },
  {
   "cell_type": "code",
   "execution_count": 47,
   "id": "ba0f9aa9",
   "metadata": {
    "ExecuteTime": {
     "end_time": "2023-03-05T19:17:53.553395Z",
     "start_time": "2023-03-05T19:17:53.435282Z"
    }
   },
   "outputs": [
    {
     "name": "stdout",
     "output_type": "stream",
     "text": [
      "+--------+--------+----------------+\n",
      "|   Sales|Discount|Discounted Value|\n",
      "+--------+--------+----------------+\n",
      "|  999.09|    0.15|          849.23|\n",
      "|  993.66|     0.5|          496.83|\n",
      "| 993.615|     0.5|          496.81|\n",
      "| 993.531|    0.15|           844.5|\n",
      "|992.9955|    0.15|          844.05|\n",
      "| 990.468|     0.1|          891.42|\n",
      "|  99.792|     0.1|           89.81|\n",
      "|  99.792|     0.4|           59.88|\n",
      "|  99.765|     0.5|           49.88|\n",
      "|   99.54|     0.5|           49.77|\n",
      "|  99.252|     0.1|           89.33|\n",
      "|  99.252|     0.1|           89.33|\n",
      "|  99.099|     0.3|           69.37|\n",
      "|  989.04|     0.5|          494.52|\n",
      "|  989.04|     0.5|          494.52|\n",
      "| 987.957|     0.1|          889.16|\n",
      "| 986.904|     0.6|          394.76|\n",
      "| 985.824|     0.6|          394.33|\n",
      "| 985.284|     0.1|          886.76|\n",
      "|  983.88|     0.1|          885.49|\n",
      "+--------+--------+----------------+\n",
      "only showing top 20 rows\n",
      "\n"
     ]
    }
   ],
   "source": [
    "# calculate the difference between sales and discount value\n",
    "\n",
    "df = df.withColumn(\"Discounted Value\", func.round(df[\"Sales\"] - (df[\"Sales\"] * df[\"Discount\"]), 2))\n",
    "\n",
    "df.\\\n",
    "select(\"Sales\", \"Discount\", \"Discounted Value\").\\\n",
    "filter(df[\"Discount\"] > 0.0).\\\n",
    "orderBy(\"Sales\", ascending=False).\\\n",
    "show()"
   ]
  },
  {
   "cell_type": "code",
   "execution_count": 111,
   "id": "8e810f4f",
   "metadata": {
    "ExecuteTime": {
     "end_time": "2023-03-05T20:00:57.770146Z",
     "start_time": "2023-03-05T20:00:57.574546Z"
    }
   },
   "outputs": [
    {
     "name": "stdout",
     "output_type": "stream",
     "text": [
      "+--------+----------+\n",
      "|Discount|Money Lost|\n",
      "+--------+----------+\n",
      "|     0.5|   91866.0|\n",
      "|     0.1|   76241.0|\n",
      "|    0.15|   38448.0|\n",
      "|     0.4|   28035.0|\n",
      "|    0.35|   18956.0|\n",
      "|     0.6|   15858.0|\n",
      "|     0.2|    8522.0|\n",
      "|    0.65|    4277.0|\n",
      "|     0.7|    2560.0|\n",
      "|     0.3|    1841.0|\n",
      "|    0.45|    1146.0|\n",
      "|    0.85|     677.0|\n",
      "|     0.8|     127.0|\n",
      "+--------+----------+\n",
      "\n"
     ]
    }
   ],
   "source": [
    "# how much money did we not gain due to the discounts - per discount bracket?\n",
    "\n",
    "df = df.withColumn(\"Money Lost\", func.round(df[\"Sales\"] - df[\"Discounted Value\"],2))\n",
    "\n",
    "df.\\\n",
    "select(\"Discount\", \"Money Lost\").\\\n",
    "filter(df[\"Discount\"] > 0.0).\\\n",
    "groupBy(\"Discount\").sum().\\\n",
    "withColumn(\"Money Lost\", func.round(\"sum(Money Lost)\")).\\\n",
    "drop(\"sum(Money Lost)\").\\\n",
    "orderBy(func.round(\"Money Lost\",2), ascending=False).\\\n",
    "show()"
   ]
  },
  {
   "cell_type": "code",
   "execution_count": 145,
   "id": "76aca9f2",
   "metadata": {
    "ExecuteTime": {
     "end_time": "2023-03-05T20:59:48.371213Z",
     "start_time": "2023-03-05T20:59:48.213587Z"
    }
   },
   "outputs": [
    {
     "data": {
      "text/plain": [
       "'0.5'"
      ]
     },
     "execution_count": 145,
     "metadata": {},
     "output_type": "execute_result"
    }
   ],
   "source": [
    "# find the discount bracket which made us not gain the most (dynamically)\n",
    "\n",
    "df = df.withColumn(\"Profit\", df[\"Profit\"].cast(\"float\"))\n",
    "\n",
    "less_profitable_discount = df.groupBy(\"Discount\").sum().orderBy(\"sum(Profit)\").\\\n",
    "select(\"Discount\").\\\n",
    "take(1)[0][0]\n",
    "\n",
    "less_profitable_discount"
   ]
  },
  {
   "cell_type": "code",
   "execution_count": 157,
   "id": "0aa9b685",
   "metadata": {
    "ExecuteTime": {
     "end_time": "2023-03-05T21:04:09.339839Z",
     "start_time": "2023-03-05T21:04:09.245232Z"
    }
   },
   "outputs": [
    {
     "data": {
      "text/plain": [
       "469461.85667362204"
      ]
     },
     "execution_count": 157,
     "metadata": {},
     "output_type": "execute_result"
    }
   ],
   "source": [
    "# what would have been the total profit if we removed all orders from that discount group? \n",
    "\n",
    "profit_without_less = df.filter(df[\"Discount\"] != less_profitable_discount).select(sum(df[\"Profit\"])).collect()[0][0]\n",
    "\n",
    "profit_without_less"
   ]
  },
  {
   "cell_type": "code",
   "execution_count": 167,
   "id": "fca95e60",
   "metadata": {
    "ExecuteTime": {
     "end_time": "2023-03-05T21:09:29.527870Z",
     "start_time": "2023-03-05T21:09:29.355726Z"
    }
   },
   "outputs": [
    {
     "name": "stdout",
     "output_type": "stream",
     "text": [
      "Total Profit without less profitable discount is more : \n"
     ]
    },
    {
     "data": {
      "text/plain": [
       "96632.11525454745"
      ]
     },
     "execution_count": 167,
     "metadata": {},
     "output_type": "execute_result"
    }
   ],
   "source": [
    "#how much more (or less) profit is that?\n",
    "\n",
    "def is_more():\n",
    "    if profit_without_less > df.select(sum(df[\"Profit\"])).collect()[0][0]:\n",
    "        print(\"Total Profit without less profitable discount is more : \")\n",
    "        return profit_without_less - df.select(sum(df[\"Profit\"])).collect()[0][0]\n",
    "    else:\n",
    "        print(\"Total Profit with less profitable discount is more : \")\n",
    "        return df.select(sum(df[\"Profit\"])).collect()[0][0] - profit_without_less\n",
    "is_more()"
   ]
  },
  {
   "cell_type": "code",
   "execution_count": 6,
   "id": "0fb49200",
   "metadata": {
    "ExecuteTime": {
     "end_time": "2023-03-05T21:32:47.267245Z",
     "start_time": "2023-03-05T21:32:47.222404Z"
    }
   },
   "outputs": [],
   "source": [
    "# create a temporary table for our superstore table in sql\n",
    "df.createOrReplaceTempView(\"df\")"
   ]
  },
  {
   "cell_type": "code",
   "execution_count": 173,
   "id": "a23e0bca",
   "metadata": {
    "ExecuteTime": {
     "end_time": "2023-03-05T21:11:16.773669Z",
     "start_time": "2023-03-05T21:11:16.673889Z"
    }
   },
   "outputs": [
    {
     "name": "stdout",
     "output_type": "stream",
     "text": [
      "+------------+\n",
      "|count(Sales)|\n",
      "+------------+\n",
      "|       10000|\n",
      "+------------+\n",
      "\n"
     ]
    }
   ],
   "source": [
    "# use an SQL query to count the number of rows\n",
    "spark.sql(\"SELECT COUNT(df.Sales) FROM df\").show()"
   ]
  },
  {
   "cell_type": "code",
   "execution_count": 175,
   "id": "8e2cf9f2",
   "metadata": {
    "ExecuteTime": {
     "end_time": "2023-03-05T21:13:37.469186Z",
     "start_time": "2023-03-05T21:13:37.289912Z"
    }
   },
   "outputs": [
    {
     "name": "stdout",
     "output_type": "stream",
     "text": [
      "+--------------+--------------------+\n",
      "|       country|               ratio|\n",
      "+--------------+--------------------+\n",
      "|   Switzerland| 0.29092012306058596|\n",
      "|       Austria|   0.264190876869252|\n",
      "|        Norway| 0.25177475561207147|\n",
      "|       Belgium| 0.23508766512254156|\n",
      "|United Kingdom| 0.21170103566633977|\n",
      "|         Spain| 0.18941580588813087|\n",
      "|       Finland| 0.18864296597998498|\n",
      "|       Germany|  0.1706679208396213|\n",
      "|        France| 0.12693568220672438|\n",
      "|         Italy| 0.06844355267097506|\n",
      "|       Ireland| -0.4442667763849829|\n",
      "|       Denmark|-0.49571900283557735|\n",
      "|   Netherlands| -0.5298342813704527|\n",
      "|        Sweden| -0.5745674291524092|\n",
      "|      Portugal| -0.5761662303775278|\n",
      "+--------------+--------------------+\n",
      "\n"
     ]
    }
   ],
   "source": [
    "# Use an SQL query to calculate the profit ratio for each country: hint, ratio is sum(profit)/sum(sales)\n",
    "spark.sql(\"SELECT df.country, sum(df.profit) / sum(df.sales) as ratio FROM df GROUP BY country ORDER BY ratio desc\").show()"
   ]
  },
  {
   "cell_type": "code",
   "execution_count": 11,
   "id": "f8cdd772",
   "metadata": {
    "ExecuteTime": {
     "end_time": "2023-03-05T21:35:36.071373Z",
     "start_time": "2023-03-05T21:35:35.746560Z"
    }
   },
   "outputs": [
    {
     "name": "stdout",
     "output_type": "stream",
     "text": [
      "The country has highest ratio is Switzerland and largest profit is United Kingdom\n"
     ]
    },
    {
     "data": {
      "text/plain": [
       "False"
      ]
     },
     "execution_count": 11,
     "metadata": {},
     "output_type": "execute_result"
    }
   ],
   "source": [
    "# is the country with the largest profit ratio, the country with the largest profit?\n",
    "\n",
    "highest_ratio = spark.sql(\"SELECT country, sum(profit) / sum(sales) as ratio FROM df GROUP BY country ORDER BY ratio desc\").\\\n",
    "take(1)[0][0]\n",
    "\n",
    "highest_profit = spark.sql(\"SELECT country, sum(df.Profit) as profit FROM df GROUP BY country ORDER BY profit desc\").\\\n",
    "take(1)[0][0]\n",
    "\n",
    "print(f\"The country has highest ratio is {highest_ratio} and largest profit is {highest_profit}\")\n",
    "\n",
    "highest_ratio == highest_profit"
   ]
  },
  {
   "cell_type": "code",
   "execution_count": null,
   "id": "e653b682",
   "metadata": {},
   "outputs": [],
   "source": []
  }
 ],
 "metadata": {
  "kernelspec": {
   "display_name": "Python 3 (ipykernel)",
   "language": "python",
   "name": "python3"
  },
  "language_info": {
   "codemirror_mode": {
    "name": "ipython",
    "version": 3
   },
   "file_extension": ".py",
   "mimetype": "text/x-python",
   "name": "python",
   "nbconvert_exporter": "python",
   "pygments_lexer": "ipython3",
   "version": "3.9.13"
  },
  "toc": {
   "base_numbering": 1,
   "nav_menu": {},
   "number_sections": true,
   "sideBar": true,
   "skip_h1_title": false,
   "title_cell": "Table of Contents",
   "title_sidebar": "Contents",
   "toc_cell": false,
   "toc_position": {},
   "toc_section_display": true,
   "toc_window_display": false
  },
  "varInspector": {
   "cols": {
    "lenName": 16,
    "lenType": 16,
    "lenVar": 40
   },
   "kernels_config": {
    "python": {
     "delete_cmd_postfix": "",
     "delete_cmd_prefix": "del ",
     "library": "var_list.py",
     "varRefreshCmd": "print(var_dic_list())"
    },
    "r": {
     "delete_cmd_postfix": ") ",
     "delete_cmd_prefix": "rm(",
     "library": "var_list.r",
     "varRefreshCmd": "cat(var_dic_list()) "
    }
   },
   "types_to_exclude": [
    "module",
    "function",
    "builtin_function_or_method",
    "instance",
    "_Feature"
   ],
   "window_display": false
  }
 },
 "nbformat": 4,
 "nbformat_minor": 5
}
