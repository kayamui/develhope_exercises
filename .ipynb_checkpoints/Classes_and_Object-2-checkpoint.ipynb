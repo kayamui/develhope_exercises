{
 "cells": [
  {
   "cell_type": "code",
   "execution_count": 39,
   "id": "a098d3b4",
   "metadata": {},
   "outputs": [],
   "source": [
    "class Animals:\n",
    "    number_of_legs = 4\n",
    "    def __init__(self, name, legcount):\n",
    "        self.name = name\n",
    "        self.legcount = legcount\n",
    "        print(\"Animal object is created\")\n",
    "\n",
    "    def run(self):\n",
    "        while self.legcount < 4:\n",
    "            self.legcount += 1\n",
    "        while self.legcount > 4:\n",
    "            self.legcount -= 1\n",
    "        if self.legcount == 4:\n",
    "            print (\"Running started!\")\n",
    "    def count_legs(self):\n",
    "        print(f\"The count of legs are {self.legcount}\")\n",
    "    def return_legs(self):\n",
    "        return self.legcount"
   ]
  },
  {
   "cell_type": "code",
   "execution_count": 40,
   "id": "b5a62b22",
   "metadata": {},
   "outputs": [
    {
     "name": "stdout",
     "output_type": "stream",
     "text": [
      "Animal object is created\n"
     ]
    }
   ],
   "source": [
    "dog = Animals(\"dog\", 4)"
   ]
  },
  {
   "cell_type": "code",
   "execution_count": 41,
   "id": "6e6e40de",
   "metadata": {},
   "outputs": [
    {
     "name": "stdout",
     "output_type": "stream",
     "text": [
      "The count of legs are 4\n"
     ]
    }
   ],
   "source": [
    "dog.count_legs()"
   ]
  },
  {
   "cell_type": "code",
   "execution_count": 42,
   "id": "9940bfcf",
   "metadata": {},
   "outputs": [
    {
     "data": {
      "text/plain": [
       "4"
      ]
     },
     "execution_count": 42,
     "metadata": {},
     "output_type": "execute_result"
    }
   ],
   "source": [
    "dog.return_legs()"
   ]
  },
  {
   "cell_type": "code",
   "execution_count": 43,
   "id": "30de225d",
   "metadata": {},
   "outputs": [
    {
     "data": {
      "text/plain": [
       "{'name': 'dog', 'legcount': 4}"
      ]
     },
     "execution_count": 43,
     "metadata": {},
     "output_type": "execute_result"
    }
   ],
   "source": [
    "dog.__dict__"
   ]
  },
  {
   "cell_type": "code",
   "execution_count": 44,
   "id": "c0cf3c05",
   "metadata": {},
   "outputs": [
    {
     "name": "stdout",
     "output_type": "stream",
     "text": [
      "4\n"
     ]
    }
   ],
   "source": [
    "print(Animals.number_of_legs)"
   ]
  },
  {
   "cell_type": "code",
   "execution_count": null,
   "id": "8c679ebf",
   "metadata": {},
   "outputs": [],
   "source": []
  }
 ],
 "metadata": {
  "kernelspec": {
   "display_name": "Python 3 (ipykernel)",
   "language": "python",
   "name": "python3"
  },
  "language_info": {
   "codemirror_mode": {
    "name": "ipython",
    "version": 3
   },
   "file_extension": ".py",
   "mimetype": "text/x-python",
   "name": "python",
   "nbconvert_exporter": "python",
   "pygments_lexer": "ipython3",
   "version": "3.9.13"
  }
 },
 "nbformat": 4,
 "nbformat_minor": 5
}
