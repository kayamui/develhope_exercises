{
 "cells": [
  {
   "cell_type": "code",
   "execution_count": 1,
   "id": "66edb4b2",
   "metadata": {},
   "outputs": [],
   "source": [
    "import random"
   ]
  },
  {
   "cell_type": "code",
   "execution_count": 10,
   "id": "0f665531",
   "metadata": {},
   "outputs": [],
   "source": [
    "def random_list_summer():\n",
    "    l = []\n",
    "    s = 0\n",
    "    while len(l)<15:\n",
    "        n = random.randint(-100, 100)\n",
    "        l.append(n)\n",
    "    for i in range(len(l)):\n",
    "        s += l[i]\n",
    "    return print(f\"The random list is : {l}\\nThe sum of all the elements are: {s}\")"
   ]
  },
  {
   "cell_type": "code",
   "execution_count": 12,
   "id": "b3aa757a",
   "metadata": {},
   "outputs": [
    {
     "name": "stdout",
     "output_type": "stream",
     "text": [
      "The random list is : [-16, 86, 92, -71, 15, -26, 51, -43, -85, -29, -44, -68, -88, 46, 81]\n",
      "The sum of all the elements are: -99\n"
     ]
    }
   ],
   "source": [
    "random_list_summer()"
   ]
  },
  {
   "cell_type": "code",
   "execution_count": null,
   "id": "db3eb235",
   "metadata": {},
   "outputs": [],
   "source": []
  },
  {
   "cell_type": "code",
   "execution_count": null,
   "id": "f60b7eef",
   "metadata": {},
   "outputs": [],
   "source": []
  }
 ],
 "metadata": {
  "kernelspec": {
   "display_name": "Python 3 (ipykernel)",
   "language": "python",
   "name": "python3"
  },
  "language_info": {
   "codemirror_mode": {
    "name": "ipython",
    "version": 3
   },
   "file_extension": ".py",
   "mimetype": "text/x-python",
   "name": "python",
   "nbconvert_exporter": "python",
   "pygments_lexer": "ipython3",
   "version": "3.9.13"
  }
 },
 "nbformat": 4,
 "nbformat_minor": 5
}
