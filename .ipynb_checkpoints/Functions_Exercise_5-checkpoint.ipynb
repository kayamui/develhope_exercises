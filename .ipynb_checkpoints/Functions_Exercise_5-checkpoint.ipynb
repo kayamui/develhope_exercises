{
 "cells": [
  {
   "cell_type": "code",
   "execution_count": 1,
   "id": "66edb4b2",
   "metadata": {},
   "outputs": [],
   "source": [
    "import random"
   ]
  },
  {
   "cell_type": "code",
   "execution_count": 30,
   "id": "0f665531",
   "metadata": {},
   "outputs": [],
   "source": [
    "def random_list_summer(n):\n",
    "    l = []\n",
    "    s = 0\n",
    "    while len(l)<15:\n",
    "        n = random.randint(-100, 100)\n",
    "        l.append(n)\n",
    "    for i in range(len(l)):\n",
    "        s += l[i]\n",
    "    return print(f\"The random list is : {l}\\nThe sum of all the elements are: {s}\")"
   ]
  },
  {
   "cell_type": "code",
   "execution_count": 31,
   "id": "b3aa757a",
   "metadata": {},
   "outputs": [
    {
     "name": "stdout",
     "output_type": "stream",
     "text": [
      "The random list is : [-68, 86, 75, 0, -53, -33, -32, 87, 75, 32, 83, -10, 63, -97, 94]\n",
      "The sum of all the elements are: 302\n"
     ]
    }
   ],
   "source": [
    "random_list_summer(n)"
   ]
  },
  {
   "cell_type": "code",
   "execution_count": null,
   "id": "db3eb235",
   "metadata": {},
   "outputs": [],
   "source": []
  }
 ],
 "metadata": {
  "kernelspec": {
   "display_name": "Python 3 (ipykernel)",
   "language": "python",
   "name": "python3"
  },
  "language_info": {
   "codemirror_mode": {
    "name": "ipython",
    "version": 3
   },
   "file_extension": ".py",
   "mimetype": "text/x-python",
   "name": "python",
   "nbconvert_exporter": "python",
   "pygments_lexer": "ipython3",
   "version": "3.9.13"
  }
 },
 "nbformat": 4,
 "nbformat_minor": 5
}
