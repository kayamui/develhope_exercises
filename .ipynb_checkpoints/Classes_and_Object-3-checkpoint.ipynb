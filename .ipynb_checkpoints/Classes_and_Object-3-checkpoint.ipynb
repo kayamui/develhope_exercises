{
 "cells": [
  {
   "cell_type": "code",
   "execution_count": 92,
   "id": "a098d3b4",
   "metadata": {},
   "outputs": [],
   "source": [
    "class Animals:\n",
    "    _number_of_legs = 4\n",
    "    def __init__(self, name, legcount):\n",
    "        self.name = name\n",
    "        self.legcount = legcount\n",
    "        print(\"Animal object is created\")\n",
    "\n",
    "    def run(self):\n",
    "        while self.legcount < 4:\n",
    "            self.legcount += 1\n",
    "        while self.legcount > 4:\n",
    "            self.legcount -= 1\n",
    "        if self.legcount == 4:\n",
    "            print (\"Running started!\")\n",
    "    def count_legs(self):\n",
    "        print(f\"The count of legs are {self.legcount}\")\n",
    "    def return_legs(self):\n",
    "        return self.legcount\n",
    "    @classmethod\n",
    "    def conventional_legs(cls):\n",
    "        _leg = cls._number_of_legs\n",
    "        return print(f\"The conventional value is {_leg}\")"
   ]
  },
  {
   "cell_type": "code",
   "execution_count": 93,
   "id": "c1c5e62f",
   "metadata": {},
   "outputs": [
    {
     "name": "stdout",
     "output_type": "stream",
     "text": [
      "The conventional value is 4\n"
     ]
    }
   ],
   "source": [
    "Animals.conventional_legs()"
   ]
  },
  {
   "cell_type": "code",
   "execution_count": null,
   "id": "67be4117",
   "metadata": {},
   "outputs": [],
   "source": []
  }
 ],
 "metadata": {
  "kernelspec": {
   "display_name": "Python 3 (ipykernel)",
   "language": "python",
   "name": "python3"
  },
  "language_info": {
   "codemirror_mode": {
    "name": "ipython",
    "version": 3
   },
   "file_extension": ".py",
   "mimetype": "text/x-python",
   "name": "python",
   "nbconvert_exporter": "python",
   "pygments_lexer": "ipython3",
   "version": "3.9.13"
  }
 },
 "nbformat": 4,
 "nbformat_minor": 5
}
