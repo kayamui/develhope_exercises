{
 "cells": [
  {
   "cell_type": "code",
   "execution_count": 12,
   "id": "85804206",
   "metadata": {},
   "outputs": [],
   "source": [
    "class Animals:\n",
    "    number_of_legs = 4\n",
    "    def __init__(self, name, legcount):\n",
    "        self.name = name\n",
    "        self.legcount = legcount\n",
    "        print(\"Animal object is created\")\n",
    "\n",
    "    def run(self):\n",
    "        while self.legcount < 4:\n",
    "            self.legcount += 1\n",
    "        while self.legcount > 4:\n",
    "            self.legcount -= 1\n",
    "        if self.legcount == 4:\n",
    "            print (\"Running started!\")\n",
    "    def count_legs(self):\n",
    "        print(f\"The count of legs are {self.legcount}\")\n",
    "    def return_legs(self):\n",
    "        return self.legcount"
   ]
  },
  {
   "cell_type": "code",
   "execution_count": 47,
   "id": "cb8063e8",
   "metadata": {},
   "outputs": [],
   "source": [
    "\n",
    "    class Dog(Animals):\n",
    "        def __init__(self, name, legcount, private_name):\n",
    "            super().__init__(name, legcount)\n",
    "            self.private_name = private_name\n",
    "        def bark(self):\n",
    "            print(f\"{self.private_name} is barking, go play with!\")\n",
    "            for _ in range(self.legcount):\n",
    "                 print (\"woof woof\")"
   ]
  },
  {
   "cell_type": "code",
   "execution_count": 48,
   "id": "a0270664",
   "metadata": {},
   "outputs": [
    {
     "name": "stdout",
     "output_type": "stream",
     "text": [
      "Animal object is created\n"
     ]
    }
   ],
   "source": [
    "daisy_dog = Dog(\"Dog\", 4,\"Daisy\" )"
   ]
  },
  {
   "cell_type": "code",
   "execution_count": 49,
   "id": "06aa9b74",
   "metadata": {},
   "outputs": [
    {
     "name": "stdout",
     "output_type": "stream",
     "text": [
      "Daisy is barking, go play with!\n",
      "woof woof\n",
      "woof woof\n",
      "woof woof\n",
      "woof woof\n"
     ]
    }
   ],
   "source": [
    "daisy_dog.bark()"
   ]
  },
  {
   "cell_type": "code",
   "execution_count": null,
   "id": "613f8c42",
   "metadata": {},
   "outputs": [],
   "source": []
  }
 ],
 "metadata": {
  "kernelspec": {
   "display_name": "Python 3 (ipykernel)",
   "language": "python",
   "name": "python3"
  },
  "language_info": {
   "codemirror_mode": {
    "name": "ipython",
    "version": 3
   },
   "file_extension": ".py",
   "mimetype": "text/x-python",
   "name": "python",
   "nbconvert_exporter": "python",
   "pygments_lexer": "ipython3",
   "version": "3.9.13"
  }
 },
 "nbformat": 4,
 "nbformat_minor": 5
}
