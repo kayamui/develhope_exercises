{
 "cells": [
  {
   "cell_type": "code",
   "execution_count": 34,
   "id": "4acc494f",
   "metadata": {
    "ExecuteTime": {
     "end_time": "2023-02-08T23:31:40.779162Z",
     "start_time": "2023-02-08T23:31:40.770163Z"
    }
   },
   "outputs": [],
   "source": [
    "def credit_card(balance = int):\n",
    "    for _ in range(12):\n",
    "        minimum_payment = balance * 0.04\n",
    "        unpaid_balance = balance - minimum_payment\n",
    "        interest = unpaid_balance * (0.2/12)\n",
    "        unpaid_balance += interest\n",
    "        balance = unpaid_balance\n",
    "    print(\"Remaining balance: \", round(balance,2))"
   ]
  },
  {
   "cell_type": "code",
   "execution_count": 35,
   "id": "419dc30f",
   "metadata": {
    "ExecuteTime": {
     "end_time": "2023-02-08T23:31:40.935611Z",
     "start_time": "2023-02-08T23:31:40.921614Z"
    }
   },
   "outputs": [
    {
     "name": "stdout",
     "output_type": "stream",
     "text": [
      "Remaining balance:  31.38\n"
     ]
    }
   ],
   "source": [
    "credit_card(42)"
   ]
  },
  {
   "cell_type": "code",
   "execution_count": 51,
   "id": "fc7f82bc",
   "metadata": {
    "ExecuteTime": {
     "end_time": "2023-02-08T23:40:09.643697Z",
     "start_time": "2023-02-08T23:40:09.632696Z"
    }
   },
   "outputs": [
    {
     "ename": "NameError",
     "evalue": "name 'balance' is not defined",
     "output_type": "error",
     "traceback": [
      "\u001b[1;31m---------------------------------------------------------------------------\u001b[0m",
      "\u001b[1;31mNameError\u001b[0m                                 Traceback (most recent call last)",
      "\u001b[1;32m~\\AppData\\Local\\Temp\\ipykernel_14008\\110408679.py\u001b[0m in \u001b[0;36m<module>\u001b[1;34m\u001b[0m\n\u001b[0;32m      1\u001b[0m \u001b[1;32mfor\u001b[0m \u001b[0m_\u001b[0m \u001b[1;32min\u001b[0m \u001b[0mrange\u001b[0m\u001b[1;33m(\u001b[0m\u001b[1;36m12\u001b[0m\u001b[1;33m)\u001b[0m\u001b[1;33m:\u001b[0m\u001b[1;33m\u001b[0m\u001b[1;33m\u001b[0m\u001b[0m\n\u001b[1;32m----> 2\u001b[1;33m     \u001b[0mminimum_payment\u001b[0m \u001b[1;33m=\u001b[0m \u001b[0mbalance\u001b[0m \u001b[1;33m*\u001b[0m \u001b[0mmonthlyPaymentRate\u001b[0m\u001b[1;33m\u001b[0m\u001b[1;33m\u001b[0m\u001b[0m\n\u001b[0m\u001b[0;32m      3\u001b[0m     \u001b[0munpaid_balance\u001b[0m \u001b[1;33m=\u001b[0m \u001b[0mbalance\u001b[0m \u001b[1;33m-\u001b[0m \u001b[0mminimum_payment\u001b[0m\u001b[1;33m\u001b[0m\u001b[1;33m\u001b[0m\u001b[0m\n\u001b[0;32m      4\u001b[0m     \u001b[0minterest\u001b[0m \u001b[1;33m=\u001b[0m \u001b[0munpaid_balance\u001b[0m \u001b[1;33m*\u001b[0m \u001b[1;33m(\u001b[0m\u001b[0mannualInterestRate\u001b[0m\u001b[1;33m/\u001b[0m\u001b[1;36m12\u001b[0m\u001b[1;33m)\u001b[0m\u001b[1;33m\u001b[0m\u001b[1;33m\u001b[0m\u001b[0m\n\u001b[0;32m      5\u001b[0m     \u001b[0munpaid_balance\u001b[0m \u001b[1;33m+=\u001b[0m \u001b[0minterest\u001b[0m\u001b[1;33m\u001b[0m\u001b[1;33m\u001b[0m\u001b[0m\n",
      "\u001b[1;31mNameError\u001b[0m: name 'balance' is not defined"
     ]
    }
   ],
   "source": [
    "for _ in range(12):\n",
    "    unpaid_balance = balance - minimum_payment\n",
    "    interest = unpaid_balance * (annualInterestRate/12)\n",
    "    unpaid_balance += interest\n",
    "    balance = unpaid_balance\n",
    "print(\"Remaining balance: \", round(balance,2))"
   ]
  },
  {
   "cell_type": "code",
   "execution_count": 68,
   "id": "65265e7b",
   "metadata": {
    "ExecuteTime": {
     "end_time": "2023-02-09T00:04:14.389039Z",
     "start_time": "2023-02-09T00:04:14.373122Z"
    }
   },
   "outputs": [],
   "source": [
    "def fixed_payment(balance, annualInterestRate, minimum_payment= 1):\n",
    "    unpaid_balance = balance - minimum_payment\n",
    "    interest = unpaid_balance * (annualInterestRate/12)\n",
    "    unpaid_balance += interest\n",
    "    balance = unpaid_balance\n",
    "    minimum_payment += 1"
   ]
  },
  {
   "cell_type": "code",
   "execution_count": 69,
   "id": "1066685e",
   "metadata": {
    "ExecuteTime": {
     "end_time": "2023-02-09T00:04:26.151591Z",
     "start_time": "2023-02-09T00:04:14.525028Z"
    }
   },
   "outputs": [
    {
     "ename": "KeyboardInterrupt",
     "evalue": "",
     "output_type": "error",
     "traceback": [
      "\u001b[1;31m---------------------------------------------------------------------------\u001b[0m",
      "\u001b[1;31mKeyboardInterrupt\u001b[0m                         Traceback (most recent call last)",
      "\u001b[1;32m~\\AppData\\Local\\Temp\\ipykernel_14008\\3873605659.py\u001b[0m in \u001b[0;36m<module>\u001b[1;34m\u001b[0m\n\u001b[1;32m----> 1\u001b[1;33m \u001b[0mfixed_payment\u001b[0m\u001b[1;33m(\u001b[0m\u001b[1;36m3926\u001b[0m\u001b[1;33m,\u001b[0m\u001b[1;36m0.2\u001b[0m\u001b[1;33m)\u001b[0m\u001b[1;33m\u001b[0m\u001b[1;33m\u001b[0m\u001b[0m\n\u001b[0m",
      "\u001b[1;32m~\\AppData\\Local\\Temp\\ipykernel_14008\\1812366444.py\u001b[0m in \u001b[0;36mfixed_payment\u001b[1;34m(balance, annualInterestRate, minimum_payment)\u001b[0m\n\u001b[0;32m      3\u001b[0m         \u001b[1;32mfor\u001b[0m \u001b[0m_\u001b[0m \u001b[1;32min\u001b[0m \u001b[0mrange\u001b[0m\u001b[1;33m(\u001b[0m\u001b[1;36m12\u001b[0m\u001b[1;33m)\u001b[0m\u001b[1;33m:\u001b[0m\u001b[1;33m\u001b[0m\u001b[1;33m\u001b[0m\u001b[0m\n\u001b[0;32m      4\u001b[0m             \u001b[0munpaid_balance\u001b[0m \u001b[1;33m=\u001b[0m \u001b[0mbalance\u001b[0m \u001b[1;33m-\u001b[0m \u001b[0mminimum_payment\u001b[0m\u001b[1;33m\u001b[0m\u001b[1;33m\u001b[0m\u001b[0m\n\u001b[1;32m----> 5\u001b[1;33m             \u001b[0minterest\u001b[0m \u001b[1;33m=\u001b[0m \u001b[0munpaid_balance\u001b[0m \u001b[1;33m*\u001b[0m \u001b[1;33m(\u001b[0m\u001b[0mannualInterestRate\u001b[0m\u001b[1;33m/\u001b[0m\u001b[1;36m12\u001b[0m\u001b[1;33m)\u001b[0m\u001b[1;33m\u001b[0m\u001b[1;33m\u001b[0m\u001b[0m\n\u001b[0m\u001b[0;32m      6\u001b[0m             \u001b[0munpaid_balance\u001b[0m \u001b[1;33m+=\u001b[0m \u001b[0minterest\u001b[0m\u001b[1;33m\u001b[0m\u001b[1;33m\u001b[0m\u001b[0m\n\u001b[0;32m      7\u001b[0m             \u001b[0mbalance\u001b[0m \u001b[1;33m=\u001b[0m \u001b[0munpaid_balance\u001b[0m\u001b[1;33m\u001b[0m\u001b[1;33m\u001b[0m\u001b[0m\n",
      "\u001b[1;31mKeyboardInterrupt\u001b[0m: "
     ]
    }
   ],
   "source": [
    "fixed_payment(3926,0.2)"
   ]
  },
  {
   "cell_type": "code",
   "execution_count": 74,
   "id": "2d0a2b38",
   "metadata": {
    "ExecuteTime": {
     "end_time": "2023-02-09T00:06:32.553938Z",
     "start_time": "2023-02-09T00:06:32.541938Z"
    }
   },
   "outputs": [
    {
     "data": {
      "text/plain": [
       "894.6"
      ]
     },
     "execution_count": 74,
     "metadata": {},
     "output_type": "execute_result"
    }
   ],
   "source": [
    "4473 * 0.2"
   ]
  },
  {
   "cell_type": "code",
   "execution_count": 75,
   "id": "a44a0199",
   "metadata": {
    "ExecuteTime": {
     "end_time": "2023-02-09T00:06:39.677521Z",
     "start_time": "2023-02-09T00:06:39.663614Z"
    }
   },
   "outputs": [
    {
     "data": {
      "text/plain": [
       "5367"
      ]
     },
     "execution_count": 75,
     "metadata": {},
     "output_type": "execute_result"
    }
   ],
   "source": [
    "4473+894"
   ]
  },
  {
   "cell_type": "code",
   "execution_count": 76,
   "id": "2e95075a",
   "metadata": {
    "ExecuteTime": {
     "end_time": "2023-02-09T00:06:43.481757Z",
     "start_time": "2023-02-09T00:06:43.471760Z"
    }
   },
   "outputs": [
    {
     "data": {
      "text/plain": [
       "447.25"
      ]
     },
     "execution_count": 76,
     "metadata": {},
     "output_type": "execute_result"
    }
   ],
   "source": [
    "5367/12"
   ]
  },
  {
   "cell_type": "code",
   "execution_count": 79,
   "id": "f74d2245",
   "metadata": {
    "ExecuteTime": {
     "end_time": "2023-02-09T00:08:39.692795Z",
     "start_time": "2023-02-09T00:08:39.686794Z"
    }
   },
   "outputs": [
    {
     "data": {
      "text/plain": [
       "440"
      ]
     },
     "execution_count": 79,
     "metadata": {},
     "output_type": "execute_result"
    }
   ],
   "source": [
    "int(447.25 - 447.25%10)"
   ]
  },
  {
   "cell_type": "code",
   "execution_count": 80,
   "id": "2b7f361c",
   "metadata": {
    "ExecuteTime": {
     "end_time": "2023-02-09T00:11:00.939330Z",
     "start_time": "2023-02-09T00:11:00.928331Z"
    }
   },
   "outputs": [
    {
     "ename": "NameError",
     "evalue": "name 'balance' is not defined",
     "output_type": "error",
     "traceback": [
      "\u001b[1;31m---------------------------------------------------------------------------\u001b[0m",
      "\u001b[1;31mNameError\u001b[0m                                 Traceback (most recent call last)",
      "\u001b[1;32m~\\AppData\\Local\\Temp\\ipykernel_14008\\4167006876.py\u001b[0m in \u001b[0;36m<module>\u001b[1;34m\u001b[0m\n\u001b[1;32m----> 1\u001b[1;33m \u001b[0mbalance\u001b[0m \u001b[1;33m+=\u001b[0m \u001b[0mbalance\u001b[0m \u001b[1;33m*\u001b[0m \u001b[0mannualInterestRate\u001b[0m\u001b[1;33m\u001b[0m\u001b[1;33m\u001b[0m\u001b[0m\n\u001b[0m\u001b[0;32m      2\u001b[0m \u001b[0mmin_payment\u001b[0m \u001b[1;33m=\u001b[0m \u001b[1;33m(\u001b[0m\u001b[0mbalance\u001b[0m \u001b[1;33m/\u001b[0m\u001b[1;36m12\u001b[0m\u001b[1;33m)\u001b[0m\u001b[1;33m-\u001b[0m\u001b[1;33m(\u001b[0m\u001b[0mbalance\u001b[0m\u001b[1;33m/\u001b[0m\u001b[1;36m12\u001b[0m\u001b[1;33m)\u001b[0m \u001b[1;33m%\u001b[0m \u001b[1;36m10\u001b[0m\u001b[1;33m\u001b[0m\u001b[1;33m\u001b[0m\u001b[0m\n",
      "\u001b[1;31mNameError\u001b[0m: name 'balance' is not defined"
     ]
    }
   ],
   "source": [
    "balance += balance * annualInterestRate\n",
    "min_payment = (balance /12)-(balance/12) % 10"
   ]
  },
  {
   "cell_type": "code",
   "execution_count": 92,
   "id": "c7ce5731",
   "metadata": {
    "ExecuteTime": {
     "end_time": "2023-02-09T00:15:37.961902Z",
     "start_time": "2023-02-09T00:15:37.954903Z"
    }
   },
   "outputs": [
    {
     "data": {
      "text/plain": [
       "3019"
      ]
     },
     "execution_count": 92,
     "metadata": {},
     "output_type": "execute_result"
    }
   ],
   "source": [
    "3329-310"
   ]
  },
  {
   "cell_type": "code",
   "execution_count": 94,
   "id": "3584c369",
   "metadata": {
    "ExecuteTime": {
     "end_time": "2023-02-09T00:15:51.225908Z",
     "start_time": "2023-02-09T00:15:51.212907Z"
    }
   },
   "outputs": [
    {
     "data": {
      "text/plain": [
       "3622.8"
      ]
     },
     "execution_count": 94,
     "metadata": {},
     "output_type": "execute_result"
    }
   ],
   "source": [
    "3019*0.2+3019"
   ]
  },
  {
   "cell_type": "code",
   "execution_count": 19,
   "id": "093bb63d",
   "metadata": {
    "ExecuteTime": {
     "end_time": "2023-02-09T12:29:39.601790Z",
     "start_time": "2023-02-09T12:29:39.596788Z"
    }
   },
   "outputs": [],
   "source": [
    "def fixed_payment(balance, annualInterestRate):\n",
    "    minimum_payment = float(((balance /12)+(balance * (1+0.2)/12)) / 2)\n",
    "    a = balance\n",
    "    while balance > 0:\n",
    "        balance = a\n",
    "        for _ in range(12):\n",
    "            unpaid_balance = balance - minimum_payment\n",
    "            interest = unpaid_balance * (annualInterestRate/12)\n",
    "            unpaid_balance += interest\n",
    "            balance = unpaid_balance\n",
    "        minimum_payment = minimum_payment - 0.01\n",
    "    print(\"Lowest Payment: \",minimum_payment -10)"
   ]
  },
  {
   "cell_type": "code",
   "execution_count": 20,
   "id": "dff97bbc",
   "metadata": {
    "ExecuteTime": {
     "end_time": "2023-02-09T12:29:40.364294Z",
     "start_time": "2023-02-09T12:29:40.356294Z"
    }
   },
   "outputs": [
    {
     "name": "stdout",
     "output_type": "stream",
     "text": [
      "Lowest Payment:  29323.323333333337\n"
     ]
    }
   ],
   "source": [
    "fixed_payment(320000, 0.2)"
   ]
  },
  {
   "cell_type": "code",
   "execution_count": 16,
   "id": "e0f72105",
   "metadata": {
    "ExecuteTime": {
     "end_time": "2023-02-09T12:29:06.317873Z",
     "start_time": "2023-02-09T12:29:06.300549Z"
    }
   },
   "outputs": [
    {
     "data": {
      "text/plain": [
       "26666.666666666668"
      ]
     },
     "execution_count": 16,
     "metadata": {},
     "output_type": "execute_result"
    }
   ],
   "source": [
    "320000/12"
   ]
  },
  {
   "cell_type": "code",
   "execution_count": 11,
   "id": "2c401b56",
   "metadata": {
    "ExecuteTime": {
     "end_time": "2023-02-09T12:29:01.018414Z",
     "start_time": "2023-02-09T12:29:01.007592Z"
    }
   },
   "outputs": [
    {
     "data": {
      "text/plain": [
       "32000.0"
      ]
     },
     "execution_count": 11,
     "metadata": {},
     "output_type": "execute_result"
    }
   ],
   "source": [
    "320000*(1+0.2)/12"
   ]
  },
  {
   "cell_type": "code",
   "execution_count": 12,
   "id": "cb27ee14",
   "metadata": {
    "ExecuteTime": {
     "end_time": "2023-02-09T12:29:01.299449Z",
     "start_time": "2023-02-09T12:29:01.294459Z"
    }
   },
   "outputs": [
    {
     "data": {
      "text/plain": [
       "58666"
      ]
     },
     "execution_count": 12,
     "metadata": {},
     "output_type": "execute_result"
    }
   ],
   "source": [
    "26666+32000"
   ]
  },
  {
   "cell_type": "code",
   "execution_count": 13,
   "id": "421235e9",
   "metadata": {
    "ExecuteTime": {
     "end_time": "2023-02-09T12:29:01.526336Z",
     "start_time": "2023-02-09T12:29:01.503505Z"
    }
   },
   "outputs": [
    {
     "data": {
      "text/plain": [
       "29333.0"
      ]
     },
     "execution_count": 13,
     "metadata": {},
     "output_type": "execute_result"
    }
   ],
   "source": [
    "58666/2"
   ]
  },
  {
   "cell_type": "code",
   "execution_count": null,
   "id": "4bbe427d",
   "metadata": {},
   "outputs": [],
   "source": []
  }
 ],
 "metadata": {
  "kernelspec": {
   "display_name": "Python 3 (ipykernel)",
   "language": "python",
   "name": "python3"
  },
  "language_info": {
   "codemirror_mode": {
    "name": "ipython",
    "version": 3
   },
   "file_extension": ".py",
   "mimetype": "text/x-python",
   "name": "python",
   "nbconvert_exporter": "python",
   "pygments_lexer": "ipython3",
   "version": "3.9.13"
  },
  "toc": {
   "base_numbering": 1,
   "nav_menu": {},
   "number_sections": true,
   "sideBar": true,
   "skip_h1_title": false,
   "title_cell": "Table of Contents",
   "title_sidebar": "Contents",
   "toc_cell": false,
   "toc_position": {},
   "toc_section_display": true,
   "toc_window_display": false
  },
  "varInspector": {
   "cols": {
    "lenName": 16,
    "lenType": 16,
    "lenVar": 40
   },
   "kernels_config": {
    "python": {
     "delete_cmd_postfix": "",
     "delete_cmd_prefix": "del ",
     "library": "var_list.py",
     "varRefreshCmd": "print(var_dic_list())"
    },
    "r": {
     "delete_cmd_postfix": ") ",
     "delete_cmd_prefix": "rm(",
     "library": "var_list.r",
     "varRefreshCmd": "cat(var_dic_list()) "
    }
   },
   "types_to_exclude": [
    "module",
    "function",
    "builtin_function_or_method",
    "instance",
    "_Feature"
   ],
   "window_display": false
  }
 },
 "nbformat": 4,
 "nbformat_minor": 5
}
