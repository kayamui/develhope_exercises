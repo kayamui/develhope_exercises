{
 "cells": [
  {
   "cell_type": "code",
   "execution_count": 31,
   "id": "dbc182bc",
   "metadata": {},
   "outputs": [],
   "source": [
    "class Animals:\n",
    "    def __init__(self, name, legcount):\n",
    "        self.name = name\n",
    "        self.legcount = legcount\n",
    "        print(\"Animal object is created\")\n",
    "\n",
    "    def run(self):\n",
    "        while self.legcount < 4:\n",
    "            self.legcount += 1\n",
    "        while self.legcount > 4:\n",
    "            self.legcount -= 1\n",
    "        if self.legcount == 4:\n",
    "            print (\"Running started!\")"
   ]
  },
  {
   "cell_type": "code",
   "execution_count": 32,
   "id": "ac530996",
   "metadata": {},
   "outputs": [
    {
     "name": "stdout",
     "output_type": "stream",
     "text": [
      "Animal object is created\n"
     ]
    }
   ],
   "source": [
    "dog = Animals(\"Dog\", 0)"
   ]
  },
  {
   "cell_type": "code",
   "execution_count": 33,
   "id": "ae0df7d9",
   "metadata": {},
   "outputs": [
    {
     "name": "stdout",
     "output_type": "stream",
     "text": [
      "Running started!\n"
     ]
    }
   ],
   "source": [
    "dog.run()"
   ]
  },
  {
   "cell_type": "code",
   "execution_count": null,
   "id": "9ec8a917",
   "metadata": {},
   "outputs": [],
   "source": []
  }
 ],
 "metadata": {
  "kernelspec": {
   "display_name": "Python 3 (ipykernel)",
   "language": "python",
   "name": "python3"
  },
  "language_info": {
   "codemirror_mode": {
    "name": "ipython",
    "version": 3
   },
   "file_extension": ".py",
   "mimetype": "text/x-python",
   "name": "python",
   "nbconvert_exporter": "python",
   "pygments_lexer": "ipython3",
   "version": "3.9.13"
  }
 },
 "nbformat": 4,
 "nbformat_minor": 5
}
