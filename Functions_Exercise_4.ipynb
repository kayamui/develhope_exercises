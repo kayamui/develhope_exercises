{
 "cells": [
  {
   "cell_type": "code",
   "execution_count": 41,
   "id": "a35be49a",
   "metadata": {},
   "outputs": [],
   "source": [
    "def family(n,s):\n",
    "    names=[\"John\"]\n",
    "    surnames=[\"Doe\"]\n",
    "    names.append(n.capitalize())\n",
    "    surnames.append(s.capitalize())\n",
    "    for _ in names:\n",
    "            firstname = str(input(\"Please insert the other members name : \"))\n",
    "            if firstname != \"exit\":\n",
    "                names.append(firstname.capitalize())\n",
    "                surname = str(input(\"Please insert the members surname:\"))\n",
    "                surnames.append(surname.capitalize())\n",
    "            else:\n",
    "                break\n",
    "    for i in range(len(names)):\n",
    "        print(f\"Hello {names[i]} {surnames[i]}!\")"
   ]
  },
  {
   "cell_type": "code",
   "execution_count": null,
   "id": "b86fde0f",
   "metadata": {},
   "outputs": [],
   "source": []
  }
 ],
 "metadata": {
  "kernelspec": {
   "display_name": "Python 3 (ipykernel)",
   "language": "python",
   "name": "python3"
  },
  "language_info": {
   "codemirror_mode": {
    "name": "ipython",
    "version": 3
   },
   "file_extension": ".py",
   "mimetype": "text/x-python",
   "name": "python",
   "nbconvert_exporter": "python",
   "pygments_lexer": "ipython3",
   "version": "3.9.13"
  }
 },
 "nbformat": 4,
 "nbformat_minor": 5
}
