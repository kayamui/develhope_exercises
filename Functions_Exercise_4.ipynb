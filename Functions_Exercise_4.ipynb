{
 "cells": [
  {
   "cell_type": "code",
   "execution_count": 41,
   "id": "a35be49a",
   "metadata": {},
   "outputs": [],
   "source": [
    "\"\"\"\n",
    "def family(n,s):\n",
    "    names=[\"John\"]\n",
    "    surnames=[\"Doe\"]\n",
    "    names.append(n.capitalize())\n",
    "    surnames.append(s.capitalize())\n",
    "    for _ in names:\n",
    "            firstname = str(input(\"Please insert the other members name : \"))\n",
    "            if firstname != \"exit\":\n",
    "                names.append(firstname.capitalize())\n",
    "                surname = str(input(\"Please insert the members surname:\"))\n",
    "                surnames.append(surname.capitalize())\n",
    "            else:\n",
    "                break\n",
    "    for i in range(len(names)):\n",
    "        print(f\"Hello {names[i]} {surnames[i]}!\")\"\"\""
   ]
  },
  {
   "cell_type": "code",
   "execution_count": 61,
   "id": "b86fde0f",
   "metadata": {
    "ExecuteTime": {
     "end_time": "2023-01-21T14:36:27.927562Z",
     "start_time": "2023-01-21T14:36:27.919556Z"
    }
   },
   "outputs": [],
   "source": [
    "names=[\"John\"]\n",
    "surnames=[\"Doe\"]\n",
    "def family(n=\"\",s=\"\"):\n",
    "    if n == \"exit\".lower():\n",
    "        for i in range(len(names)):\n",
    "            print(f\"Hello {names[i]} {surnames[i]}!\")\n",
    "    else:\n",
    "        names.append(n.capitalize())\n",
    "        surnames.append(s.capitalize())"
   ]
  },
  {
   "cell_type": "code",
   "execution_count": 62,
   "id": "986b7002",
   "metadata": {
    "ExecuteTime": {
     "end_time": "2023-01-21T14:36:28.098562Z",
     "start_time": "2023-01-21T14:36:28.095560Z"
    }
   },
   "outputs": [],
   "source": [
    "family(\"Muhammed\", \"Kaya\")"
   ]
  },
  {
   "cell_type": "code",
   "execution_count": 63,
   "id": "de91d076",
   "metadata": {
    "ExecuteTime": {
     "end_time": "2023-01-21T14:36:28.303034Z",
     "start_time": "2023-01-21T14:36:28.287987Z"
    }
   },
   "outputs": [],
   "source": [
    "family(\"Elton\", \"John\")"
   ]
  },
  {
   "cell_type": "code",
   "execution_count": 64,
   "id": "c0db3174",
   "metadata": {
    "ExecuteTime": {
     "end_time": "2023-01-21T14:36:28.675178Z",
     "start_time": "2023-01-21T14:36:28.663833Z"
    }
   },
   "outputs": [],
   "source": [
    "family(\"Bob\", \"Marley\")"
   ]
  },
  {
   "cell_type": "code",
   "execution_count": 65,
   "id": "67c4f459",
   "metadata": {
    "ExecuteTime": {
     "end_time": "2023-01-21T14:36:28.895889Z",
     "start_time": "2023-01-21T14:36:28.887882Z"
    }
   },
   "outputs": [],
   "source": [
    "family(\"doNalD\", \"trump\")"
   ]
  },
  {
   "cell_type": "code",
   "execution_count": 66,
   "id": "36f9c282",
   "metadata": {
    "ExecuteTime": {
     "end_time": "2023-01-21T14:36:29.269711Z",
     "start_time": "2023-01-21T14:36:29.263706Z"
    }
   },
   "outputs": [
    {
     "name": "stdout",
     "output_type": "stream",
     "text": [
      "Hello John Doe!\n",
      "Hello Muhammed Kaya!\n",
      "Hello Elton John!\n",
      "Hello Bob Marley!\n",
      "Hello Donald Trump!\n"
     ]
    }
   ],
   "source": [
    "family(\"exit\")"
   ]
  },
  {
   "cell_type": "code",
   "execution_count": null,
   "id": "ba86e4c9",
   "metadata": {},
   "outputs": [],
   "source": []
  }
 ],
 "metadata": {
  "kernelspec": {
   "display_name": "Python 3 (ipykernel)",
   "language": "python",
   "name": "python3"
  },
  "language_info": {
   "codemirror_mode": {
    "name": "ipython",
    "version": 3
   },
   "file_extension": ".py",
   "mimetype": "text/x-python",
   "name": "python",
   "nbconvert_exporter": "python",
   "pygments_lexer": "ipython3",
   "version": "3.9.13"
  },
  "toc": {
   "base_numbering": 1,
   "nav_menu": {},
   "number_sections": true,
   "sideBar": true,
   "skip_h1_title": false,
   "title_cell": "Table of Contents",
   "title_sidebar": "Contents",
   "toc_cell": false,
   "toc_position": {},
   "toc_section_display": true,
   "toc_window_display": false
  },
  "varInspector": {
   "cols": {
    "lenName": 16,
    "lenType": 16,
    "lenVar": 40
   },
   "kernels_config": {
    "python": {
     "delete_cmd_postfix": "",
     "delete_cmd_prefix": "del ",
     "library": "var_list.py",
     "varRefreshCmd": "print(var_dic_list())"
    },
    "r": {
     "delete_cmd_postfix": ") ",
     "delete_cmd_prefix": "rm(",
     "library": "var_list.r",
     "varRefreshCmd": "cat(var_dic_list()) "
    }
   },
   "types_to_exclude": [
    "module",
    "function",
    "builtin_function_or_method",
    "instance",
    "_Feature"
   ],
   "window_display": false
  }
 },
 "nbformat": 4,
 "nbformat_minor": 5
}
