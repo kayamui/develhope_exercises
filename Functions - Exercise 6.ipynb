{
 "cells": [
  {
   "cell_type": "code",
   "execution_count": 1,
   "id": "d0723fc0",
   "metadata": {},
   "outputs": [],
   "source": [
    "#THE OLD SOLUTION\n",
    "def fibonacci(n):\n",
    "    l = []\n",
    "    n1 = 0\n",
    "    n2 = 1\n",
    "    if n < 0:\n",
    "        return \"Wrong input\"\n",
    "    for i in range(n):\n",
    "        l.append(n1)\n",
    "        roll = n1 + n2\n",
    "        n1 = n2\n",
    "        n2 = roll\n",
    "    return l\n",
    "        \n",
    "        "
   ]
  },
  {
   "cell_type": "code",
   "execution_count": 2,
   "id": "6bcd8b00",
   "metadata": {},
   "outputs": [
    {
     "data": {
      "text/plain": [
       "[]"
      ]
     },
     "execution_count": 2,
     "metadata": {},
     "output_type": "execute_result"
    }
   ],
   "source": [
    "fibonacci(0)"
   ]
  },
  {
   "cell_type": "code",
   "execution_count": 3,
   "id": "93ee2319",
   "metadata": {
    "scrolled": true
   },
   "outputs": [
    {
     "data": {
      "text/plain": [
       "[0, 1, 1, 2, 3, 5, 8, 13, 21, 34]"
      ]
     },
     "execution_count": 3,
     "metadata": {},
     "output_type": "execute_result"
    }
   ],
   "source": [
    "fibonacci(10)"
   ]
  },
  {
   "cell_type": "markdown",
   "id": "cd85b81e",
   "metadata": {},
   "source": [
    "# New Solution"
   ]
  },
  {
   "cell_type": "code",
   "execution_count": 41,
   "id": "6c57e3d3",
   "metadata": {},
   "outputs": [],
   "source": [
    "def recursive_fibo(n):\n",
    "    if n <= 1:\n",
    "        return n\n",
    "    else:\n",
    "        return(recursive_fibo(n-1) + recursive_fibo(n-2))"
   ]
  },
  {
   "cell_type": "code",
   "execution_count": 42,
   "id": "1f611061",
   "metadata": {},
   "outputs": [
    {
     "name": "stdout",
     "output_type": "stream",
     "text": [
      "0\n",
      "1\n",
      "1\n",
      "2\n",
      "3\n"
     ]
    }
   ],
   "source": [
    "for i in range(5):\n",
    "    print(recursive_fibo(i))"
   ]
  },
  {
   "cell_type": "code",
   "execution_count": null,
   "id": "11c8667f",
   "metadata": {},
   "outputs": [],
   "source": []
  }
 ],
 "metadata": {
  "kernelspec": {
   "display_name": "Python 3 (ipykernel)",
   "language": "python",
   "name": "python3"
  },
  "language_info": {
   "codemirror_mode": {
    "name": "ipython",
    "version": 3
   },
   "file_extension": ".py",
   "mimetype": "text/x-python",
   "name": "python",
   "nbconvert_exporter": "python",
   "pygments_lexer": "ipython3",
   "version": "3.9.13"
  }
 },
 "nbformat": 4,
 "nbformat_minor": 5
}
