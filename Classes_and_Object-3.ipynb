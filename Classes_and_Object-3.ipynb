{
 "cells": [
  {
   "cell_type": "code",
   "execution_count": 39,
   "id": "a098d3b4",
   "metadata": {},
   "outputs": [],
   "source": [
    "class Animals:\n",
    "    number_of_legs = 4\n",
    "    def __init__(self, name, legcount):\n",
    "        self.name = name\n",
    "        self.legcount = legcount\n",
    "        print(\"Animal object is created\")\n",
    "\n",
    "    def run(self):\n",
    "        while self.legcount < 4:\n",
    "            self.legcount += 1\n",
    "        while self.legcount > 4:\n",
    "            self.legcount -= 1\n",
    "        if self.legcount == 4:\n",
    "            print (\"Running started!\")\n",
    "    def count_legs(self):\n",
    "        print(f\"The count of legs are {self.legcount}\")\n",
    "    def return_legs(self):\n",
    "        return self.legcount\n",
    "    def convention_legs(self, _legs):\n",
    "        self._legs = Animals.number_of_legs\n",
    "    @classmethod\n",
    "    def conventional_legs(cls, leg):\n",
    "        cls.number_of_legs = leg \n",
    "        return print(leg)"
   ]
  },
  {
   "cell_type": "code",
   "execution_count": 41,
   "id": "5f947896",
   "metadata": {},
   "outputs": [
    {
     "ename": "NameError",
     "evalue": "name 'convention_legs' is not defined",
     "output_type": "error",
     "traceback": [
      "\u001b[1;31m---------------------------------------------------------------------------\u001b[0m",
      "\u001b[1;31mNameError\u001b[0m                                 Traceback (most recent call last)",
      "\u001b[1;32m~\\AppData\\Local\\Temp\\ipykernel_4744\\374444293.py\u001b[0m in \u001b[0;36m<module>\u001b[1;34m\u001b[0m\n\u001b[1;32m----> 1\u001b[1;33m \u001b[0mconvention_legs\u001b[0m\u001b[1;33m(\u001b[0m\u001b[1;34m\"muhammed\"\u001b[0m\u001b[1;33m)\u001b[0m\u001b[1;33m\u001b[0m\u001b[1;33m\u001b[0m\u001b[0m\n\u001b[0m",
      "\u001b[1;31mNameError\u001b[0m: name 'convention_legs' is not defined"
     ]
    }
   ],
   "source": [
    "convention_legs(\"muhammed\")"
   ]
  },
  {
   "cell_type": "code",
   "execution_count": null,
   "id": "a66dfdfe",
   "metadata": {},
   "outputs": [],
   "source": []
  }
 ],
 "metadata": {
  "kernelspec": {
   "display_name": "Python 3 (ipykernel)",
   "language": "python",
   "name": "python3"
  },
  "language_info": {
   "codemirror_mode": {
    "name": "ipython",
    "version": 3
   },
   "file_extension": ".py",
   "mimetype": "text/x-python",
   "name": "python",
   "nbconvert_exporter": "python",
   "pygments_lexer": "ipython3",
   "version": "3.9.13"
  }
 },
 "nbformat": 4,
 "nbformat_minor": 5
}
